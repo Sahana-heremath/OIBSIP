{
 "cells": [
  {
   "cell_type": "markdown",
   "id": "6c754a1b",
   "metadata": {},
   "source": [
    "### RANDOM PASSWORD GENERATOR"
   ]
  },
  {
   "cell_type": "code",
   "execution_count": 1,
   "id": "5073b1c8",
   "metadata": {},
   "outputs": [
    {
     "name": "stdout",
     "output_type": "stream",
     "text": [
      "Welcome to the Random Password Generator\n",
      "Enter the desired password length: 10\n",
      "Select character types to include in the password:\n",
      "1. Letters (a-z, A-Z)\n",
      "2. Numbers (0-9)\n",
      "3. Symbols (!, @, #, etc.)\n",
      "Enter the number(s) corresponding to your choices, separated by commas (e.g., 1,2,3): 1,2,3\n",
      "Your generated password is: D_/5_(^k~.\n"
     ]
    }
   ],
   "source": [
    "import random\n",
    "import string\n",
    "\n",
    "def get_password_length():\n",
    "    while True:\n",
    "        try:\n",
    "            length = int(input(\"Enter the desired password length: \"))\n",
    "            if length > 0:\n",
    "                return length\n",
    "            else:\n",
    "                print(\"Password length must be a positive number. Please try again.\")\n",
    "        except ValueError:\n",
    "            print(\"Invalid input. Please enter a number.\")\n",
    "\n",
    "def get_character_types():\n",
    "    print(\"Select character types to include in the password:\")\n",
    "    print(\"1. Letters (a-z, A-Z)\")\n",
    "    print(\"2. Numbers (0-9)\")\n",
    "    print(\"3. Symbols (!, @, #, etc.)\")\n",
    "    \n",
    "    choices = []\n",
    "    while True:\n",
    "        choice = input(\"Enter the number(s) corresponding to your choices, separated by commas (e.g., 1,2,3): \")\n",
    "        choices = [ch.strip() for ch in choice.split(',')]\n",
    "        \n",
    "        if all(c in {'1', '2', '3'} for c in choices):\n",
    "            return choices\n",
    "        else:\n",
    "            print(\"Invalid choices. Please enter 1, 2, and/or 3.\")\n",
    "\n",
    "def generate_password(length, choices):\n",
    "    char_set = \"\"\n",
    "    \n",
    "    if '1' in choices:\n",
    "        char_set += string.ascii_letters\n",
    "    if '2' in choices:\n",
    "        char_set += string.digits\n",
    "    if '3' in choices:\n",
    "        char_set += string.punctuation\n",
    "    \n",
    "    if not char_set:\n",
    "        print(\"No valid character types selected. Please try again.\")\n",
    "        return \"\"\n",
    "    \n",
    "    password = ''.join(random.choice(char_set) for _ in range(length))\n",
    "    return password\n",
    "\n",
    "def main():\n",
    "    print(\"Welcome to the Random Password Generator\")\n",
    "    \n",
    "    length = get_password_length()\n",
    "    choices = get_character_types()\n",
    "    password = generate_password(length, choices)\n",
    "    \n",
    "    if password:\n",
    "        print(f\"Your generated password is: {password}\")\n",
    "\n",
    "if __name__ == \"__main__\":\n",
    "    main()\n"
   ]
  }
 ],
 "metadata": {
  "kernelspec": {
   "display_name": "Python 3 (ipykernel)",
   "language": "python",
   "name": "python3"
  },
  "language_info": {
   "codemirror_mode": {
    "name": "ipython",
    "version": 3
   },
   "file_extension": ".py",
   "mimetype": "text/x-python",
   "name": "python",
   "nbconvert_exporter": "python",
   "pygments_lexer": "ipython3",
   "version": "3.11.5"
  }
 },
 "nbformat": 4,
 "nbformat_minor": 5
}
