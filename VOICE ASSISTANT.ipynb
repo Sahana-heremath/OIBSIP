{
 "cells": [
  {
   "cell_type": "code",
   "execution_count": 2,
   "id": "97e9ad33",
   "metadata": {},
   "outputs": [
    {
     "name": "stdout",
     "output_type": "stream",
     "text": [
      "Defaulting to user installation because normal site-packages is not writeableNote: you may need to restart the kernel to use updated packages.\n",
      "\n",
      "Requirement already satisfied: SpeechRecognition in c:\\users\\dell\\appdata\\roaming\\python\\python311\\site-packages (3.10.4)\n",
      "Requirement already satisfied: pyttsx3 in c:\\users\\dell\\appdata\\roaming\\python\\python311\\site-packages (2.90)\n",
      "Requirement already satisfied: requests>=2.26.0 in c:\\programdata\\anaconda3\\lib\\site-packages (from SpeechRecognition) (2.31.0)\n",
      "Requirement already satisfied: typing-extensions in c:\\programdata\\anaconda3\\lib\\site-packages (from SpeechRecognition) (4.7.1)\n",
      "Requirement already satisfied: comtypes in c:\\users\\dell\\appdata\\roaming\\python\\python311\\site-packages (from pyttsx3) (1.4.4)\n",
      "Requirement already satisfied: pypiwin32 in c:\\users\\dell\\appdata\\roaming\\python\\python311\\site-packages (from pyttsx3) (223)\n",
      "Requirement already satisfied: pywin32 in c:\\programdata\\anaconda3\\lib\\site-packages (from pyttsx3) (305.1)\n",
      "Requirement already satisfied: charset-normalizer<4,>=2 in c:\\programdata\\anaconda3\\lib\\site-packages (from requests>=2.26.0->SpeechRecognition) (2.0.4)\n",
      "Requirement already satisfied: idna<4,>=2.5 in c:\\programdata\\anaconda3\\lib\\site-packages (from requests>=2.26.0->SpeechRecognition) (3.4)\n",
      "Requirement already satisfied: urllib3<3,>=1.21.1 in c:\\programdata\\anaconda3\\lib\\site-packages (from requests>=2.26.0->SpeechRecognition) (1.26.16)\n",
      "Requirement already satisfied: certifi>=2017.4.17 in c:\\programdata\\anaconda3\\lib\\site-packages (from requests>=2.26.0->SpeechRecognition) (2023.7.22)\n"
     ]
    }
   ],
   "source": [
    "pip install SpeechRecognition pyttsx3"
   ]
  },
  {
   "cell_type": "code",
   "execution_count": 9,
   "id": "8c2502e1",
   "metadata": {},
   "outputs": [
    {
     "name": "stdout",
     "output_type": "stream",
     "text": [
      "Defaulting to user installation because normal site-packages is not writeable\n",
      "Collecting pyaudio\n",
      "  Obtaining dependency information for pyaudio from https://files.pythonhosted.org/packages/82/d8/f043c854aad450a76e476b0cf9cda1956419e1dacf1062eb9df3c0055abe/PyAudio-0.2.14-cp311-cp311-win_amd64.whl.metadata\n",
      "  Downloading PyAudio-0.2.14-cp311-cp311-win_amd64.whl.metadata (2.7 kB)\n",
      "Downloading PyAudio-0.2.14-cp311-cp311-win_amd64.whl (164 kB)\n",
      "   ---------------------------------------- 0.0/164.1 kB ? eta -:--:--\n",
      "   -- ------------------------------------- 10.2/164.1 kB ? eta -:--:--\n",
      "   -- ------------------------------------- 10.2/164.1 kB ? eta -:--:--\n",
      "   -------------- ------------------------ 61.4/164.1 kB 544.7 kB/s eta 0:00:01\n",
      "   --------------------- ----------------- 92.2/164.1 kB 581.0 kB/s eta 0:00:01\n",
      "   ---------------------------- --------- 122.9/164.1 kB 599.1 kB/s eta 0:00:01\n",
      "   -------------------------------------- 164.1/164.1 kB 615.3 kB/s eta 0:00:00\n",
      "Installing collected packages: pyaudio\n",
      "Successfully installed pyaudio-0.2.14\n",
      "Note: you may need to restart the kernel to use updated packages.\n"
     ]
    }
   ],
   "source": [
    "pip install pyaudio"
   ]
  },
  {
   "cell_type": "code",
   "execution_count": 3,
   "id": "2b7ca38b",
   "metadata": {},
   "outputs": [],
   "source": [
    "import pyaudio\n"
   ]
  },
  {
   "cell_type": "code",
   "execution_count": 4,
   "id": "ea0b210c",
   "metadata": {},
   "outputs": [],
   "source": [
    "import speech_recognition as sr\n",
    "import pyttsx3"
   ]
  },
  {
   "cell_type": "code",
   "execution_count": 5,
   "id": "dfdb0ad7",
   "metadata": {},
   "outputs": [
    {
     "name": "stdout",
     "output_type": "stream",
     "text": [
      "Defaulting to user installation because normal site-packages is not writeable\n",
      "Requirement already satisfied: speechrecognition in c:\\users\\dell\\appdata\\roaming\\python\\python311\\site-packages (3.10.4)\n",
      "Requirement already satisfied: pyttsx3 in c:\\users\\dell\\appdata\\roaming\\python\\python311\\site-packages (2.90)\n",
      "Requirement already satisfied: requests>=2.26.0 in c:\\programdata\\anaconda3\\lib\\site-packages (from speechrecognition) (2.31.0)\n",
      "Requirement already satisfied: typing-extensions in c:\\programdata\\anaconda3\\lib\\site-packages (from speechrecognition) (4.7.1)\n",
      "Requirement already satisfied: comtypes in c:\\users\\dell\\appdata\\roaming\\python\\python311\\site-packages (from pyttsx3) (1.4.4)\n",
      "Requirement already satisfied: pypiwin32 in c:\\users\\dell\\appdata\\roaming\\python\\python311\\site-packages (from pyttsx3) (223)\n",
      "Requirement already satisfied: pywin32 in c:\\programdata\\anaconda3\\lib\\site-packages (from pyttsx3) (305.1)\n",
      "Requirement already satisfied: charset-normalizer<4,>=2 in c:\\programdata\\anaconda3\\lib\\site-packages (from requests>=2.26.0->speechrecognition) (2.0.4)\n",
      "Requirement already satisfied: idna<4,>=2.5 in c:\\programdata\\anaconda3\\lib\\site-packages (from requests>=2.26.0->speechrecognition) (3.4)\n",
      "Requirement already satisfied: urllib3<3,>=1.21.1 in c:\\programdata\\anaconda3\\lib\\site-packages (from requests>=2.26.0->speechrecognition) (1.26.16)\n",
      "Requirement already satisfied: certifi>=2017.4.17 in c:\\programdata\\anaconda3\\lib\\site-packages (from requests>=2.26.0->speechrecognition) (2023.7.22)\n",
      "Note: you may need to restart the kernel to use updated packages.\n"
     ]
    }
   ],
   "source": [
    "pip install --upgrade speechrecognition pyttsx3\n"
   ]
  },
  {
   "cell_type": "code",
   "execution_count": 1,
   "id": "d5e701a3",
   "metadata": {},
   "outputs": [
    {
     "name": "stdout",
     "output_type": "stream",
     "text": [
      "Listening...\n",
      "You said: hello\n",
      "Listening...\n",
      "You said: what is the time now\n",
      "Listening...\n",
      "You said: what is the date today\n",
      "Listening...\n",
      "You said: search\n",
      "Listening...\n",
      "You said: I want to search about UI UX\n",
      "Listening...\n",
      "Listening...\n",
      "You said: exit\n"
     ]
    }
   ],
   "source": [
    "import speech_recognition as sr\n",
    "import pyttsx3\n",
    "from datetime import datetime\n",
    "import webbrowser\n",
    "\n",
    "# Initialize the recognizer and text-to-speech engine\n",
    "recognizer = sr.Recognizer()\n",
    "engine = pyttsx3.init()\n",
    "\n",
    "def speak(text):\n",
    "    \"\"\"Convert text to speech.\"\"\"\n",
    "    engine.say(text)\n",
    "    engine.runAndWait()\n",
    "\n",
    "def listen():\n",
    "    \"\"\"Listen for audio and convert it to text.\"\"\"\n",
    "    with sr.Microphone() as source:\n",
    "        print(\"Listening...\")\n",
    "        audio = recognizer.listen(source)\n",
    "        try:\n",
    "            query = recognizer.recognize_google(audio)\n",
    "            print(f\"You said: {query}\")\n",
    "            return query.lower()\n",
    "        except sr.UnknownValueError:\n",
    "            speak(\"Sorry, I didn't catch that.\")\n",
    "            return \"\"\n",
    "        except sr.RequestError:\n",
    "            speak(\"Sorry, there was an issue with the speech recognition service.\")\n",
    "            return \"\"\n",
    "\n",
    "def respond(query):\n",
    "    \"\"\"Respond to the user's query.\"\"\"\n",
    "    if \"hello\" in query:\n",
    "        speak(\"Hello! How can I help you?\")\n",
    "    elif \"time\" in query:\n",
    "        current_time = datetime.now().strftime(\"%H:%M\")\n",
    "        speak(f\"The time is {current_time}\")\n",
    "    elif \"date\" in query:\n",
    "        current_date = datetime.now().strftime(\"%B %d, %Y\")\n",
    "        speak(f\"Today's date is {current_date}\")\n",
    "    elif \"search\" in query:\n",
    "        speak(\"What do you want to search for?\")\n",
    "        search_query = listen()\n",
    "        if search_query:\n",
    "            url = f\"https://www.google.com/search?q={search_query}\"\n",
    "            webbrowser.open(url)\n",
    "            speak(f\"Searching for {search_query}\")\n",
    "    else:\n",
    "        speak(\"I can't do that. Try asking something else.\")\n",
    "\n",
    "def main():\n",
    "    \"\"\"Main function to run the voice assistant.\"\"\"\n",
    "    speak(\"Voice assistant activated. How can I help you?\")\n",
    "    while True:\n",
    "        query = listen()\n",
    "        if \"exit\" in query or \"stop\" in query:\n",
    "            speak(\"Goodbye!\")\n",
    "            break\n",
    "        respond(query)\n",
    "\n",
    "if __name__ == \"__main__\":\n",
    "    main()\n"
   ]
  }
 ],
 "metadata": {
  "kernelspec": {
   "display_name": "Python 3 (ipykernel)",
   "language": "python",
   "name": "python3"
  },
  "language_info": {
   "codemirror_mode": {
    "name": "ipython",
    "version": 3
   },
   "file_extension": ".py",
   "mimetype": "text/x-python",
   "name": "python",
   "nbconvert_exporter": "python",
   "pygments_lexer": "ipython3",
   "version": "3.11.5"
  }
 },
 "nbformat": 4,
 "nbformat_minor": 5
}
