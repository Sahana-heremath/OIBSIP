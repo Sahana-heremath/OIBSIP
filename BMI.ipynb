{
 "cells": [
  {
   "cell_type": "markdown",
   "id": "4e39958b",
   "metadata": {},
   "source": [
    "### BMI"
   ]
  },
  {
   "cell_type": "code",
   "execution_count": 1,
   "id": "3e539016",
   "metadata": {},
   "outputs": [
    {
     "name": "stdout",
     "output_type": "stream",
     "text": [
      "Welcome to the BMI Calculator\n",
      "Enter your weight in kilograms: 40\n",
      "Enter your height in meters: 5\n",
      "Your BMI is: 1.60\n",
      "Your BMI category is: Underweight\n"
     ]
    }
   ],
   "source": [
    "def get_weight():\n",
    "    while True:\n",
    "        try:\n",
    "            weight = float(input(\"Enter your weight in kilograms: \"))\n",
    "            if weight > 0:\n",
    "                return weight\n",
    "            else:\n",
    "                print(\"Weight must be a positive number. Please try again.\")\n",
    "        except ValueError:\n",
    "            print(\"Invalid input. Please enter a number.\")\n",
    "\n",
    "def get_height():\n",
    "    while True:\n",
    "        try:\n",
    "            height = float(input(\"Enter your height in meters: \"))\n",
    "            if height > 0:\n",
    "                return height\n",
    "            else:\n",
    "                print(\"Height must be a positive number. Please try again.\")\n",
    "        except ValueError:\n",
    "            print(\"Invalid input. Please enter a number.\")\n",
    "\n",
    "def calculate_bmi(weight, height):\n",
    "    return weight / (height ** 2)\n",
    "\n",
    "def categorize_bmi(bmi):\n",
    "    if bmi < 18.5:\n",
    "        return \"Underweight\"\n",
    "    elif 18.5 <= bmi < 24.9:\n",
    "        return \"Normal weight\"\n",
    "    elif 25 <= bmi < 29.9:\n",
    "        return \"Overweight\"\n",
    "    else:\n",
    "        return \"Obesity\"\n",
    "\n",
    "def main():\n",
    "    print(\"Welcome to the BMI Calculator\")\n",
    "\n",
    "    weight = get_weight()\n",
    "    height = get_height()\n",
    "\n",
    "    bmi = calculate_bmi(weight, height)\n",
    "    category = categorize_bmi(bmi)\n",
    "\n",
    "    print(f\"Your BMI is: {bmi:.2f}\")\n",
    "    print(f\"Your BMI category is: {category}\")\n",
    "\n",
    "if __name__ == \"__main__\":\n",
    "    main()\n"
   ]
  }
 ],
 "metadata": {
  "kernelspec": {
   "display_name": "Python 3 (ipykernel)",
   "language": "python",
   "name": "python3"
  },
  "language_info": {
   "codemirror_mode": {
    "name": "ipython",
    "version": 3
   },
   "file_extension": ".py",
   "mimetype": "text/x-python",
   "name": "python",
   "nbconvert_exporter": "python",
   "pygments_lexer": "ipython3",
   "version": "3.11.5"
  }
 },
 "nbformat": 4,
 "nbformat_minor": 5
}
